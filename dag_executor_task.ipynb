{
 "cells": [
  {
   "cell_type": "code",
   "execution_count": 1,
   "metadata": {},
   "outputs": [
    {
     "name": "stdout",
     "output_type": "stream",
     "text": [
      "host : Baptistes-MacBook-Pro.local\n",
      "user : admin\n"
     ]
    },
    {
     "name": "stderr",
     "output_type": "stream",
     "text": [
      "/Users/admin/anaconda3/envs/py36gensim/lib/python3.6/site-packages/ipykernel_launcher.py:11: DeprecationWarning: The SafeConfigParser class has been renamed to ConfigParser in Python 3.2. This alias will be removed in future versions. Use ConfigParser directly instead.\n",
      "  # This is added back by InteractiveShellApp.init_path()\n"
     ]
    }
   ],
   "source": [
    "import os\n",
    "import psycopg2\n",
    "from psycopg2.extras import wait_select\n",
    "from time import time\n",
    "import select\n",
    "\n",
    "from dag_execution.task_dag_executor import *\n",
    "from dag_execution.execution_graph import run_query_py\n",
    "\n",
    "from configparser import SafeConfigParser\n",
    "parser = SafeConfigParser()"
   ]
  },
  {
   "cell_type": "code",
   "execution_count": 2,
   "metadata": {},
   "outputs": [],
   "source": [
    "# http://initd.org/psycopg/docs/advanced.html\n",
    "def wait(conn):\n",
    "    while 1:\n",
    "        state = conn.poll()\n",
    "        if state == psycopg2.extensions.POLL_OK:\n",
    "            break\n",
    "        elif state == psycopg2.extensions.POLL_WRITE:\n",
    "            select.select([], [conn.fileno()], [])\n",
    "        elif state == psycopg2.extensions.POLL_READ:\n",
    "            select.select([conn.fileno()], [], [])\n",
    "        else:\n",
    "            raise psycopg2.OperationalError(\"poll() returned %s\" % state)\n",
    "\n",
    "\n",
    "def open_connection(dbname, user, host, port, password):\n",
    "    connect_text = \"dbname='{}' user='{}' host={} port={} password='{}'\".format(\n",
    "        dbname, user, host, port, password)\n",
    "    connector = psycopg2.connect(connect_text)\n",
    "    cursor = connector.cursor()\n",
    "    return connector, cursor\n",
    "\n",
    "\n",
    "def open_connection_async(dbname, user, host, port, password):\n",
    "    connect_text = \"dbname='{}' user='{}' host={} port={} password='{}'\".format(\n",
    "        dbname, user, host, port, password)\n",
    "    connector = psycopg2.connect(connect_text, async=1)\n",
    "    # wait(connector)\n",
    "    wait_select(connector)\n",
    "    cursor = connector.cursor()\n",
    "    return connector, cursor\n",
    "\n",
    "\n",
    "def close_connection(connector, cursor):\n",
    "    cursor.close()\n",
    "    connector.close()\n",
    "    return None\n"
   ]
  },
  {
   "cell_type": "code",
   "execution_count": 3,
   "metadata": {},
   "outputs": [],
   "source": [
    "parser.read(PARAM_FILE)\n",
    "DBNAME   = parser.get(\"redshift\", \"dbname\")\n",
    "HOST     = parser.get(\"redshift\", \"host\")\n",
    "PASSWORD = parser.get(\"redshift\", \"password\")\n",
    "PORT     = parser.get(\"redshift\", \"port\")\n",
    "USER     = parser.get(\"redshift\", \"user\")\n",
    "connector, cursor = open_connection_async(DBNAME, USER, HOST, PORT, PASSWORD)"
   ]
  },
  {
   "cell_type": "markdown",
   "metadata": {},
   "source": [
    "# Test"
   ]
  },
  {
   "cell_type": "code",
   "execution_count": null,
   "metadata": {},
   "outputs": [],
   "source": [
    "query = \"\"\"\n",
    "DROP TABLE if EXISTS req1;\n",
    "CREATE temp TABLE req1(\n",
    "  tname CHARACTER VARYING (32)\n",
    ") diststyle ALL;\n",
    "\n",
    "INSERT INTO req1 SELECT 'req1' ;\n",
    "\"\"\"\n",
    "\n",
    "cursor.execute(query)\n",
    "# for record in cursor:\n",
    "#     print(record)\n",
    "\n",
    "connector.commit()"
   ]
  },
  {
   "cell_type": "code",
   "execution_count": null,
   "metadata": {},
   "outputs": [],
   "source": [
    "query = \"\"\"\n",
    "DROP TABLE if EXISTS req2;\n",
    "CREATE temp TABLE req2(\n",
    "  tname CHARACTER VARYING (32)\n",
    ") diststyle ALL;\n",
    "\n",
    "INSERT INTO req2 SELECT 'req2' ;\n",
    "\"\"\"\n",
    "\n",
    "cursor.execute(query)\n",
    "connector.commit()"
   ]
  },
  {
   "cell_type": "code",
   "execution_count": null,
   "metadata": {},
   "outputs": [],
   "source": [
    "query = \"SELECT * from req1 ;\"\n",
    "\n",
    "cursor.execute(query)\n",
    "for record in cursor:\n",
    "    print(record)"
   ]
  },
  {
   "cell_type": "code",
   "execution_count": null,
   "metadata": {},
   "outputs": [],
   "source": [
    "query = \"SELECT * from req2 ;\"\n",
    "\n",
    "cursor.execute(query)\n",
    "for record in cursor:\n",
    "    print(record)"
   ]
  },
  {
   "cell_type": "code",
   "execution_count": null,
   "metadata": {},
   "outputs": [],
   "source": [
    "query = \"SELECT * from bidon ;\"\n",
    "\n",
    "# https://bbengfort.github.io/observations/2017/12/06/psycopg2-transactions.html\n",
    "try:\n",
    "    cursor.execute(query)\n",
    "    connector.commit()\n",
    "except Exception as e:\n",
    "    connector.rollback()\n",
    "    pass\n",
    "    #raise e"
   ]
  },
  {
   "cell_type": "code",
   "execution_count": null,
   "metadata": {},
   "outputs": [],
   "source": [
    "query = \"SELECT * from bidon ;\"\n",
    "\n",
    "try :\n",
    "    cursor.execute(query)\n",
    "    for record in cursor:\n",
    "        print(record)\n",
    "except Exception as e:\n",
    "    print(\"exception error :\", e)"
   ]
  },
  {
   "cell_type": "code",
   "execution_count": null,
   "metadata": {},
   "outputs": [],
   "source": []
  },
  {
   "cell_type": "markdown",
   "metadata": {},
   "source": [
    "# Trial"
   ]
  },
  {
   "cell_type": "code",
   "execution_count": 4,
   "metadata": {},
   "outputs": [],
   "source": [
    "def run_query_py(query: str, connector, cursor, prompt: bool=False, asynchronous=False):\n",
    "    # http://initd.org/psycopg/docs/usage.html\n",
    "    try:\n",
    "        cursor.execute(query)\n",
    "        if prompt:\n",
    "            for record in cursor:\n",
    "                print(record)\n",
    "\n",
    "        connector.commit()\n",
    "    except Exception as e:\n",
    "        if not asynchronous:\n",
    "            connector.rollback()\n",
    "        raise e\n",
    "        \n",
    "def run_query_py_async(query: str, connector, cursor, prompt: bool=False):\n",
    "    # http://initd.org/psycopg/docs/usage.html\n",
    "    try:\n",
    "        cursor.execute(query)\n",
    "        wait_select(cursor.connection)\n",
    "        connector.commit()\n",
    "    except Exception as e:\n",
    "        raise e"
   ]
  },
  {
   "cell_type": "code",
   "execution_count": 5,
   "metadata": {},
   "outputs": [
    {
     "name": "stdout",
     "output_type": "stream",
     "text": [
      "req4.sql\n",
      "-- SELECT * FROM apps LIMIT 5 ;\n",
      "\n",
      "DROP TABLE if EXISTS req4;\n",
      "CREATE temp TABLE req4(\n",
      "  tname CHARACTER VARYING (32)\n",
      ") diststyle ALL;\n",
      "\n",
      "INSERT INTO req4 SELECT 'req4' ;\n",
      "\n",
      "req1.sql\n",
      "-- SELECT * FROM apps LIMIT 5 ;\n",
      "\n",
      "DROP TABLE if EXISTS req1;\n",
      "CREATE temp TABLE req1(\n",
      "  tname CHARACTER VARYING (32)\n",
      ") diststyle ALL;\n",
      "\n",
      "INSERT INTO req1 SELECT 'req1' ;\n",
      "\n",
      "req2a.sql\n",
      "-- SELECT * FROM apps LIMIT 5 ;\n",
      "\n",
      "DROP TABLE if EXISTS req2a;\n",
      "CREATE temp TABLE req2a(\n",
      "  tname CHARACTER VARYING (32)\n",
      ") diststyle ALL;\n",
      "\n",
      "INSERT INTO req2a SELECT 'req2a' ;\n",
      "\n",
      "req2b.sql\n",
      "-- SELECT * FROM apps LIMIT 5 ;\n",
      "\n",
      "DROP TABLE if EXISTS req2b;\n",
      "CREATE temp TABLE req2b(\n",
      "  tname CHARACTER VARYING (32)\n",
      ") diststyle ALL;\n",
      "\n",
      "INSERT INTO req2b SELECT 'req2b' ;\n",
      "\n",
      "req3.sql\n",
      "-- SELECT * FROM apps LIMIT 5 ;\n",
      "\n",
      "DROP TABLE if EXISTS req3;\n",
      "CREATE temp TABLE req3(\n",
      "  tname CHARACTER VARYING (32)\n",
      ") diststyle ALL;\n",
      "\n",
      "INSERT INTO req3 SELECT 'req3' ;\n",
      "\n",
      "{'req4.sql': \n",
      "**********\n",
      "name          : 'req4.sql'\n",
      "parents       : []\n",
      "children      : ['req2b.sql']\n",
      "nb of parents : 0\n",
      "submitted     : False\n",
      "completed     : False\n",
      "**********\n",
      ", 'req1.sql': \n",
      "**********\n",
      "name          : 'req1.sql'\n",
      "parents       : []\n",
      "children      : ['req2a.sql', 'req2b.sql']\n",
      "nb of parents : 0\n",
      "submitted     : False\n",
      "completed     : False\n",
      "**********\n",
      ", 'req2a.sql': \n",
      "**********\n",
      "name          : 'req2a.sql'\n",
      "parents       : ['req1.sql']\n",
      "children      : ['req3.sql']\n",
      "nb of parents : 1\n",
      "submitted     : False\n",
      "completed     : False\n",
      "**********\n",
      ", 'req2b.sql': \n",
      "**********\n",
      "name          : 'req2b.sql'\n",
      "parents       : ['req1.sql', 'req4.sql']\n",
      "children      : ['req3.sql']\n",
      "nb of parents : 2\n",
      "submitted     : False\n",
      "completed     : False\n",
      "**********\n",
      ", 'req3.sql': \n",
      "**********\n",
      "name          : 'req3.sql'\n",
      "parents       : ['req2a.sql', 'req2b.sql']\n",
      "children      : []\n",
      "nb of parents : 2\n",
      "submitted     : False\n",
      "completed     : False\n",
      "**********\n",
      "}\n"
     ]
    }
   ],
   "source": [
    "sql_dir = DAG_TST_SQL_DIR\n",
    "    \n",
    "task_dag = TaskDag()\n",
    "task_dag.build(DAG_TST_SQL_DIR + \"dependencies.txt\")\n",
    "for node in nx.topological_sort(task_dag.G):\n",
    "    query = open(sql_dir + node, 'r').read()\n",
    "    print(node)\n",
    "    print(query)\n",
    "    task_dag.add_task(\n",
    "        node,\n",
    "        lambda: run_query_py_async(query, connector, cursor), task_dag.G.predecessors(node)\n",
    "    )\n",
    "print(task_dag.tasks)"
   ]
  },
  {
   "cell_type": "code",
   "execution_count": 6,
   "metadata": {},
   "outputs": [
    {
     "name": "stdout",
     "output_type": "stream",
     "text": [
      "req4.sql submitted at 1528458766.235134\n",
      "req1.sql submitted at 1528458766.2360861\n",
      "req1.sql completed at 1528458766.236819\n",
      "req2a.sql submitted at 1528458766.236929\n",
      "req2a.sql completed at 1528458766.237727\n",
      "req1.sql completed at 1528458766.327271\n"
     ]
    }
   ],
   "source": [
    "task_dag_executor = TaskDagExecutor(10)\n",
    "task_dag_executor.execute(task_dag)"
   ]
  },
  {
   "cell_type": "code",
   "execution_count": null,
   "metadata": {},
   "outputs": [],
   "source": []
  },
  {
   "cell_type": "code",
   "execution_count": 7,
   "metadata": {},
   "outputs": [
    {
     "ename": "ProgrammingError",
     "evalue": "relation \"req1\" does not exist\n",
     "output_type": "error",
     "traceback": [
      "\u001b[0;31m---------------------------------------------------------------------------\u001b[0m",
      "\u001b[0;31mProgrammingError\u001b[0m                          Traceback (most recent call last)",
      "\u001b[0;32m<ipython-input-7-68f99c83e235>\u001b[0m in \u001b[0;36m<module>\u001b[0;34m()\u001b[0m\n\u001b[1;32m      2\u001b[0m \u001b[0;31m# time.sleep(10) # wait for queries to finish\u001b[0m\u001b[0;34m\u001b[0m\u001b[0;34m\u001b[0m\u001b[0m\n\u001b[1;32m      3\u001b[0m \u001b[0;31m# run_query_py(open(sql_dir + 'req5.sql', 'r').read(), connector)\u001b[0m\u001b[0;34m\u001b[0m\u001b[0;34m\u001b[0m\u001b[0m\n\u001b[0;32m----> 4\u001b[0;31m \u001b[0mrun_query_py_async\u001b[0m\u001b[0;34m(\u001b[0m\u001b[0;34m'SELECT * FROM req1 ;'\u001b[0m\u001b[0;34m,\u001b[0m \u001b[0mconnector\u001b[0m\u001b[0;34m,\u001b[0m \u001b[0mcursor\u001b[0m\u001b[0;34m,\u001b[0m \u001b[0mprompt\u001b[0m\u001b[0;34m=\u001b[0m\u001b[0;32mTrue\u001b[0m\u001b[0;34m)\u001b[0m\u001b[0;34m\u001b[0m\u001b[0m\n\u001b[0m",
      "\u001b[0;32m<ipython-input-4-7a645baeac7b>\u001b[0m in \u001b[0;36mrun_query_py_async\u001b[0;34m(query, connector, cursor, prompt)\u001b[0m\n\u001b[1;32m     20\u001b[0m         \u001b[0mconnector\u001b[0m\u001b[0;34m.\u001b[0m\u001b[0mcommit\u001b[0m\u001b[0;34m(\u001b[0m\u001b[0;34m)\u001b[0m\u001b[0;34m\u001b[0m\u001b[0m\n\u001b[1;32m     21\u001b[0m     \u001b[0;32mexcept\u001b[0m \u001b[0mException\u001b[0m \u001b[0;32mas\u001b[0m \u001b[0me\u001b[0m\u001b[0;34m:\u001b[0m\u001b[0;34m\u001b[0m\u001b[0m\n\u001b[0;32m---> 22\u001b[0;31m         \u001b[0;32mraise\u001b[0m \u001b[0me\u001b[0m\u001b[0;34m\u001b[0m\u001b[0m\n\u001b[0m",
      "\u001b[0;32m<ipython-input-4-7a645baeac7b>\u001b[0m in \u001b[0;36mrun_query_py_async\u001b[0;34m(query, connector, cursor, prompt)\u001b[0m\n\u001b[1;32m     17\u001b[0m     \u001b[0;32mtry\u001b[0m\u001b[0;34m:\u001b[0m\u001b[0;34m\u001b[0m\u001b[0m\n\u001b[1;32m     18\u001b[0m         \u001b[0mcursor\u001b[0m\u001b[0;34m.\u001b[0m\u001b[0mexecute\u001b[0m\u001b[0;34m(\u001b[0m\u001b[0mquery\u001b[0m\u001b[0;34m)\u001b[0m\u001b[0;34m\u001b[0m\u001b[0m\n\u001b[0;32m---> 19\u001b[0;31m         \u001b[0mwait_select\u001b[0m\u001b[0;34m(\u001b[0m\u001b[0mcursor\u001b[0m\u001b[0;34m.\u001b[0m\u001b[0mconnection\u001b[0m\u001b[0;34m)\u001b[0m\u001b[0;34m\u001b[0m\u001b[0m\n\u001b[0m\u001b[1;32m     20\u001b[0m         \u001b[0mconnector\u001b[0m\u001b[0;34m.\u001b[0m\u001b[0mcommit\u001b[0m\u001b[0;34m(\u001b[0m\u001b[0;34m)\u001b[0m\u001b[0;34m\u001b[0m\u001b[0m\n\u001b[1;32m     21\u001b[0m     \u001b[0;32mexcept\u001b[0m \u001b[0mException\u001b[0m \u001b[0;32mas\u001b[0m \u001b[0me\u001b[0m\u001b[0;34m:\u001b[0m\u001b[0;34m\u001b[0m\u001b[0m\n",
      "\u001b[0;32m~/anaconda3/envs/py36gensim/lib/python3.6/site-packages/psycopg2/extras.py\u001b[0m in \u001b[0;36mwait_select\u001b[0;34m(conn)\u001b[0m\n\u001b[1;32m    761\u001b[0m     \u001b[0;32mwhile\u001b[0m \u001b[0;36m1\u001b[0m\u001b[0;34m:\u001b[0m\u001b[0;34m\u001b[0m\u001b[0m\n\u001b[1;32m    762\u001b[0m         \u001b[0;32mtry\u001b[0m\u001b[0;34m:\u001b[0m\u001b[0;34m\u001b[0m\u001b[0m\n\u001b[0;32m--> 763\u001b[0;31m             \u001b[0mstate\u001b[0m \u001b[0;34m=\u001b[0m \u001b[0mconn\u001b[0m\u001b[0;34m.\u001b[0m\u001b[0mpoll\u001b[0m\u001b[0;34m(\u001b[0m\u001b[0;34m)\u001b[0m\u001b[0;34m\u001b[0m\u001b[0m\n\u001b[0m\u001b[1;32m    764\u001b[0m             \u001b[0;32mif\u001b[0m \u001b[0mstate\u001b[0m \u001b[0;34m==\u001b[0m \u001b[0mPOLL_OK\u001b[0m\u001b[0;34m:\u001b[0m\u001b[0;34m\u001b[0m\u001b[0m\n\u001b[1;32m    765\u001b[0m                 \u001b[0;32mbreak\u001b[0m\u001b[0;34m\u001b[0m\u001b[0m\n",
      "\u001b[0;31mProgrammingError\u001b[0m: relation \"req1\" does not exist\n"
     ]
    }
   ],
   "source": [
    "# check created tables\n",
    "# time.sleep(10) # wait for queries to finish\n",
    "# run_query_py(open(sql_dir + 'req5.sql', 'r').read(), connector)\n",
    "run_query_py_async('SELECT * FROM req1 ;', connector, cursor, prompt=True)"
   ]
  },
  {
   "cell_type": "code",
   "execution_count": null,
   "metadata": {},
   "outputs": [],
   "source": [
    "close_connection(connector, cursor) "
   ]
  },
  {
   "cell_type": "code",
   "execution_count": null,
   "metadata": {},
   "outputs": [],
   "source": []
  },
  {
   "cell_type": "code",
   "execution_count": null,
   "metadata": {},
   "outputs": [],
   "source": [
    "# http://www.dougalmatthews.com/notes/postgres-the-cool-stuff/\n",
    "import psycopg2\n",
    "from psycopg2.extras import wait_select\n",
    "\n",
    "connect_text = \"dbname='{}' user='{}' host={} port={} password='{}'\".format(\n",
    "        DBNAME, USER, HOST, PORT, PASSWORD)\n",
    "\n",
    "aconn = psycopg2.connect(connect_text, async=1)\n",
    "wait_select(aconn)\n",
    "acurs = aconn.cursor()\n",
    "acurs.execute(\"SELECT 1;\")\n",
    "wait_select(acurs.connection)\n",
    "acurs.fetchone()[0]"
   ]
  },
  {
   "cell_type": "code",
   "execution_count": null,
   "metadata": {},
   "outputs": [],
   "source": []
  },
  {
   "cell_type": "code",
   "execution_count": null,
   "metadata": {},
   "outputs": [],
   "source": []
  },
  {
   "cell_type": "code",
   "execution_count": null,
   "metadata": {},
   "outputs": [],
   "source": []
  },
  {
   "cell_type": "code",
   "execution_count": null,
   "metadata": {},
   "outputs": [],
   "source": []
  },
  {
   "cell_type": "code",
   "execution_count": null,
   "metadata": {},
   "outputs": [],
   "source": []
  },
  {
   "cell_type": "code",
   "execution_count": null,
   "metadata": {},
   "outputs": [],
   "source": []
  },
  {
   "cell_type": "code",
   "execution_count": null,
   "metadata": {},
   "outputs": [],
   "source": []
  }
 ],
 "metadata": {
  "kernelspec": {
   "display_name": "Python 3",
   "language": "python",
   "name": "python3"
  },
  "language_info": {
   "codemirror_mode": {
    "name": "ipython",
    "version": 3
   },
   "file_extension": ".py",
   "mimetype": "text/x-python",
   "name": "python",
   "nbconvert_exporter": "python",
   "pygments_lexer": "ipython3",
   "version": "3.6.4"
  }
 },
 "nbformat": 4,
 "nbformat_minor": 2
}
